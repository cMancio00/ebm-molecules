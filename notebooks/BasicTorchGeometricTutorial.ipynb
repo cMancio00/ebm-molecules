{
 "cells": [
  {
   "cell_type": "markdown",
   "id": "1dde4c0b-65a4-4b05-9d58-d42b5d2c41a3",
   "metadata": {},
   "source": [
    "# Handling Graphs\n",
    "\n",
    "In PyG a single graph is described by an instance of `torch_geometric.data.Data`.\n",
    "By defaults, it can handles the following attributes:\n",
    "\n",
    "- `data.x`: Node feature matrix with shape `[num_nodes, num_node_features]`\n",
    "- `data.edge_index`: Graph connectivity in [COO](https://pytorch.org/docs/stable/sparse.html#sparse-coo-docs)(sparse representation) format with shape `[2, num_edges]` and type `torch.long`\n",
    "- `data.edge_attr`: Edge feature matrix with shape `[num_edges, num_edge_features]`\n",
    "- `data.y`: Target to train against (may have arbitrary shape), e.g., node-level targets of shape `[num_nodes, *]` or graph-level targets of shape `[1, *]`\n",
    "- `data.pos`: Node position matrix with shape `[num_nodes, num_dimensions]`\n",
    "\n",
    "None of these attributes are required and we can also add new attributes.\n",
    "\n",
    "A basic example of how to create a graph is the following:"
   ]
  },
  {
   "cell_type": "code",
   "execution_count": 14,
   "id": "2e6d4427-0f2c-4920-a9bb-ac8a65950d55",
   "metadata": {},
   "outputs": [
    {
     "name": "stdout",
     "output_type": "stream",
     "text": [
      "Data(x=[3, 1], edge_index=[2, 4])\n",
      "Node Features: tensor([[-1.,  0.,  1.]])\n",
      "Edges:\n",
      "tensor([[0, 1, 1, 2],\n",
      "        [1, 0, 2, 1]])\n"
     ]
    }
   ],
   "source": [
    "import torch\n",
    "from torch_geometric.data import Data\n",
    "\n",
    "edge_index: torch.Tensor = torch.tensor([[0, 1, 1, 2],\n",
    "                                         [1, 0, 2, 1]], dtype=torch.long)\n",
    "x: torch.Tensor = torch.tensor([[-1], [0], [1]], dtype=torch.float)\n",
    "data: Data = Data(x=x, edge_index=edge_index)\n",
    "print(data)\n",
    "print(f\"Node Features: {data.x.T}\")  # trasnpose for readability\n",
    "print(f\"Edges:\\n{data.edge_index}\")"
   ]
  },
  {
   "cell_type": "markdown",
   "id": "1a9950e4-eb41-483a-acf3-b65daae238a5",
   "metadata": {},
   "source": [
    "This will create a graph with $3$ nodes with $1$ feature each and $4$ edges.\n",
    "Note that `edge_index` is created with $2$ separate `list`, the first is for `source` and the second is for `destination`.\n",
    "If we want to create `edge_index` from a list of index tuple we will do the following using `contiguos()`"
   ]
  },
  {
   "cell_type": "code",
   "execution_count": 15,
   "id": "d758c638-3d36-4ac0-a32c-e81a6cec837b",
   "metadata": {},
   "outputs": [
    {
     "name": "stdout",
     "output_type": "stream",
     "text": [
      "Data(x=[3, 1], edge_index=[2, 4])\n",
      "Node Features: tensor([[-1.,  0.,  1.]])\n",
      "Edges:\n",
      "tensor([[0, 1, 1, 2],\n",
      "        [1, 0, 2, 1]])\n"
     ]
    }
   ],
   "source": [
    "edge_index: torch.Tensor = torch.tensor([[0, 1],\n",
    "                                         [1, 0],\n",
    "                                         [1, 2],\n",
    "                                         [2, 1]], dtype=torch.long)\n",
    "x: torch.Tensor = torch.tensor([[-1], [0], [1]], dtype=torch.float)\n",
    "data = Data(x=x, edge_index=edge_index.t().contiguous())\n",
    "print(data)\n",
    "print(f\"Node Features: {data.x.T}\")\n",
    "print(f\"Edges:\\n{data.edge_index}\")"
   ]
  },
  {
   "cell_type": "markdown",
   "id": "3cd2b923-3c76-404c-bbca-455d80689664",
   "metadata": {},
   "source": [
    "The result is the same.\n",
    "\n",
    "It is necessary that the elements in `edge_index` only hold indices in the range `{ 0, ..., num_nodes - 1}`.\n",
    "This can be checked using `validate()` on the `Data` object"
   ]
  },
  {
   "cell_type": "code",
   "execution_count": 18,
   "id": "7298ee18-85c6-4b2f-aea6-60335402bb8d",
   "metadata": {},
   "outputs": [
    {
     "name": "stdout",
     "output_type": "stream",
     "text": [
      "Graph is valid: True\n"
     ]
    }
   ],
   "source": [
    "print(f\"Graph is valid: {data.validate(raise_on_error=True)}\")"
   ]
  }
 ],
 "metadata": {
  "kernelspec": {
   "display_name": "Python 3 (ipykernel)",
   "language": "python",
   "name": "python3"
  },
  "language_info": {
   "codemirror_mode": {
    "name": "ipython",
    "version": 3
   },
   "file_extension": ".py",
   "mimetype": "text/x-python",
   "name": "python",
   "nbconvert_exporter": "python",
   "pygments_lexer": "ipython3",
   "version": "3.12.3"
  }
 },
 "nbformat": 4,
 "nbformat_minor": 5
}
