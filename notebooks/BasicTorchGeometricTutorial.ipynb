{
 "cells": [
  {
   "cell_type": "markdown",
   "id": "1dde4c0b-65a4-4b05-9d58-d42b5d2c41a3",
   "metadata": {},
   "source": [
    "# Handling Graphs\n",
    "\n",
    "In PyG a single graph is described by an instance of `torch_geometric.data.Data`.\n",
    "By defaults, it can handles the following attributes:\n",
    "\n",
    "- `data.x`: Node feature matrix with shape `[num_nodes, num_node_features]`\n",
    "- `data.edge_index`: Graph connectivity in [COO](https://pytorch.org/docs/stable/sparse.html#sparse-coo-docs)(sparse representation) format with shape `[2, num_edges]` and type `torch.long`\n",
    "- `data.edge_attr`: Edge feature matrix with shape `[num_edges, num_edge_features]`\n",
    "- `data.y`: Target to train against (may have arbitrary shape), e.g., node-level targets of shape `[num_nodes, *]` or graph-level targets of shape `[1, *]`\n",
    "- `data.pos`: Node position matrix with shape `[num_nodes, num_dimensions]`\n",
    "\n",
    "None of these attributes are required and we can also add new attributes.\n",
    "\n",
    "A basic example of how to create a graph is the following:"
   ]
  },
  {
   "cell_type": "code",
   "execution_count": 1,
   "id": "2e6d4427-0f2c-4920-a9bb-ac8a65950d55",
   "metadata": {},
   "outputs": [
    {
     "name": "stderr",
     "output_type": "stream",
     "text": [
      "/home/mancio/git/ebm-molecules/.venv/lib/python3.12/site-packages/torch_geometric/typing.py:68: UserWarning: An issue occurred while importing 'pyg-lib'. Disabling its usage. Stacktrace: /home/mancio/git/ebm-molecules/.venv/lib/python3.12/site-packages/libpyg.so: undefined symbol: _ZN5torch8autograd12VariableInfoC1ERKN2at6TensorE\n",
      "  warnings.warn(f\"An issue occurred while importing 'pyg-lib'. \"\n",
      "/home/mancio/git/ebm-molecules/.venv/lib/python3.12/site-packages/torch_geometric/typing.py:86: UserWarning: An issue occurred while importing 'torch-scatter'. Disabling its usage. Stacktrace: /home/mancio/git/ebm-molecules/.venv/lib/python3.12/site-packages/torch_scatter/_scatter_cuda.so: undefined symbol: _ZN2at4_ops16div__Tensor_mode4callERNS_6TensorERKS2_St8optionalIN3c1017basic_string_viewIcEEE\n",
      "  warnings.warn(f\"An issue occurred while importing 'torch-scatter'. \"\n",
      "/home/mancio/git/ebm-molecules/.venv/lib/python3.12/site-packages/torch_geometric/typing.py:113: UserWarning: An issue occurred while importing 'torch-spline-conv'. Disabling its usage. Stacktrace: /home/mancio/git/ebm-molecules/.venv/lib/python3.12/site-packages/torch_spline_conv/_basis_cuda.so: undefined symbol: _ZN5torch8autograd12VariableInfoC1ERKN2at6TensorE\n",
      "  warnings.warn(\n",
      "/home/mancio/git/ebm-molecules/.venv/lib/python3.12/site-packages/torch_geometric/typing.py:124: UserWarning: An issue occurred while importing 'torch-sparse'. Disabling its usage. Stacktrace: /home/mancio/git/ebm-molecules/.venv/lib/python3.12/site-packages/torch_sparse/_spmm_cuda.so: undefined symbol: _ZN5torch8autograd12VariableInfoC1ERKN2at6TensorE\n",
      "  warnings.warn(f\"An issue occurred while importing 'torch-sparse'. \"\n"
     ]
    },
    {
     "name": "stdout",
     "output_type": "stream",
     "text": [
      "Data(x=[3, 1], edge_index=[2, 4])\n",
      "Node Features: tensor([[-1.,  0.,  1.]])\n",
      "Edges:\n",
      "tensor([[0, 1, 1, 2],\n",
      "        [1, 0, 2, 1]])\n"
     ]
    }
   ],
   "source": [
    "import torch\n",
    "from torch_geometric.data import Data\n",
    "\n",
    "edge_index: torch.Tensor = torch.tensor([[0, 1, 1, 2],\n",
    "                                         [1, 0, 2, 1]], dtype=torch.long)\n",
    "x: torch.Tensor = torch.tensor([[-1], [0], [1]], dtype=torch.float)\n",
    "data: Data = Data(x=x, edge_index=edge_index)\n",
    "print(data)\n",
    "print(f\"Node Features: {data.x.T}\")\n",
    "print(f\"Edges:\\n{data.edge_index}\")"
   ]
  },
  {
   "cell_type": "markdown",
   "id": "1a9950e4-eb41-483a-acf3-b65daae238a5",
   "metadata": {},
   "source": [
    "This will create a graph with $3$ nodes with $1$ feature each and $4$ edges.\n",
    "Note that `edge_index` is created with $2$ separate `list`, the first is for `source` and the second is for `destination`.\n",
    "If we want to create `edge_index` from a list of index tuple we will do the following using `contiguos()`"
   ]
  },
  {
   "cell_type": "code",
   "execution_count": 2,
   "id": "d758c638-3d36-4ac0-a32c-e81a6cec837b",
   "metadata": {},
   "outputs": [
    {
     "name": "stdout",
     "output_type": "stream",
     "text": [
      "Data(x=[3, 1], edge_index=[2, 4])\n",
      "Node Features: tensor([[-1.,  0.,  1.]])\n",
      "Edges:\n",
      "tensor([[0, 1, 1, 2],\n",
      "        [1, 0, 2, 1]])\n"
     ]
    }
   ],
   "source": [
    "edge_index: torch.Tensor = torch.tensor([[0, 1],\n",
    "                                         [1, 0],\n",
    "                                         [1, 2],\n",
    "                                         [2, 1]], dtype=torch.long)\n",
    "x: torch.Tensor = torch.tensor([[-1], [0], [1]], dtype=torch.float)\n",
    "data = Data(x=x, edge_index=edge_index.t().contiguous())\n",
    "print(data)\n",
    "print(f\"Node Features: {data.x.T}\")\n",
    "print(f\"Edges:\\n{data.edge_index}\")"
   ]
  },
  {
   "cell_type": "markdown",
   "id": "3cd2b923-3c76-404c-bbca-455d80689664",
   "metadata": {},
   "source": [
    "The result is the same.\n",
    "\n",
    "It is necessary that the elements in `edge_index` only hold indices in the range `{ 0, ..., num_nodes - 1}`.\n",
    "This can be checked using `validate()` on the `Data` object"
   ]
  },
  {
   "cell_type": "code",
   "execution_count": 3,
   "id": "7298ee18-85c6-4b2f-aea6-60335402bb8d",
   "metadata": {},
   "outputs": [
    {
     "name": "stdout",
     "output_type": "stream",
     "text": [
      "Graph is valid: True\n"
     ]
    }
   ],
   "source": [
    "print(f\"Graph is valid: {data.validate(raise_on_error=True)}\")"
   ]
  },
  {
   "cell_type": "markdown",
   "id": "3eda3c22-fc38-4a87-96f0-4a1c6368f78e",
   "metadata": {},
   "source": [
    "Since a `Data` object is composed by Tensors, we can tranfer the graph on GPU"
   ]
  },
  {
   "cell_type": "code",
   "execution_count": 4,
   "id": "8aa843a9-9814-479f-830e-e098102d3ddf",
   "metadata": {},
   "outputs": [
    {
     "name": "stdout",
     "output_type": "stream",
     "text": [
      "Features on: cuda:0\n",
      "Edges on: cuda:0\n"
     ]
    }
   ],
   "source": [
    "device = torch.device(\"cuda:0\")\n",
    "data.to(device)\n",
    "print(f\"Features on: {data.x.device}\")\n",
    "print(f\"Edges on: {data.edge_index.device}\")"
   ]
  },
  {
   "cell_type": "markdown",
   "id": "cf5e2d84-1e56-4a5c-ba7c-2ca8e7bde20a",
   "metadata": {},
   "source": [
    "# Importing a dataset\n",
    "\n",
    "PyG offers a wide range of ready to use datasets in the `torch_geometric.datasets` package. A full list of datasets can be found [here](https://pytorch-geometric.readthedocs.io/en/latest/modules/datasets.html).\n",
    "For this example we will use `MNISTSuperpixels`, a graph variant of the common `MNIST` dataset."
   ]
  },
  {
   "cell_type": "code",
   "execution_count": 5,
   "id": "dfd23071-c4f8-48d3-90ca-9a7b467f6d40",
   "metadata": {},
   "outputs": [],
   "source": [
    "from torch_geometric.datasets import MNISTSuperpixels\n",
    "\n",
    "MNIST_PATH = \"../datasets/MNISTSuperpixel\"\n",
    "dataset = MNISTSuperpixels(root=MNIST_PATH)"
   ]
  },
  {
   "cell_type": "markdown",
   "id": "c4794823-5f8b-44f8-a87a-f8e354b15e3b",
   "metadata": {},
   "source": [
    "We can get some basic information about the dataset"
   ]
  },
  {
   "cell_type": "code",
   "execution_count": 6,
   "id": "e2a10b47-aec2-4a57-8cf9-932307c4fde5",
   "metadata": {},
   "outputs": [
    {
     "name": "stdout",
     "output_type": "stream",
     "text": [
      "MNISTSuperpixels(60000)\n",
      "Classes: 10\n",
      "Node features: 1\n",
      "Edge features: 0\n"
     ]
    }
   ],
   "source": [
    "print(dataset)\n",
    "print(f\"Classes: {dataset.num_classes}\")\n",
    "print(f\"Node features: {dataset.num_node_features}\")\n",
    "print(f\"Edge features: {dataset.num_edge_features}\")"
   ]
  },
  {
   "cell_type": "markdown",
   "id": "74cdedb2-bb0b-40dd-9801-c61dd3d3f460",
   "metadata": {},
   "source": [
    "We have access to all the dataset and we can get a graph by direct access or slicing a subset."
   ]
  },
  {
   "cell_type": "code",
   "execution_count": 7,
   "id": "17f067de-d06b-4872-b4ca-a1623e4a1e60",
   "metadata": {},
   "outputs": [
    {
     "name": "stdout",
     "output_type": "stream",
     "text": [
      "Data(x=[75, 1], edge_index=[2, 1399], y=[1], pos=[75, 2])\n",
      "MNISTSuperpixels(100)\n"
     ]
    }
   ],
   "source": [
    "print(dataset[0])\n",
    "sliced = dataset[:100]\n",
    "print(sliced)"
   ]
  },
  {
   "cell_type": "markdown",
   "id": "73014ff4-28db-46be-993b-59d34fd7d981",
   "metadata": {},
   "source": [
    "Like in PyTorch, PyG offers a `DataLoader` class in `torch_geometric.loader` module.\n",
    "A `Dataloader` is used to get batches from a dataset. \n",
    "Internally, DataLoader is just a regular PyTorch `torch.utils.data.DataLoader` that overwrites its `collate()` functionality, i.e., the definition of how a list of examples should be grouped together.\n",
    "\n",
    "In our example we can use:"
   ]
  },
  {
   "cell_type": "code",
   "execution_count": 8,
   "id": "8331de89-5a24-4954-bcfb-ec4841105cf3",
   "metadata": {},
   "outputs": [
    {
     "name": "stdout",
     "output_type": "stream",
     "text": [
      "DataBatch(x=[225, 1], edge_index=[2, 4043], y=[3], pos=[225, 2], batch=[225], ptr=[4])\n",
      "Graphs in the batch: 3\n",
      "tensor([0, 0, 0, 0, 0, 0, 0, 0, 0, 0, 0, 0, 0, 0, 0, 0, 0, 0, 0, 0, 0, 0, 0, 0,\n",
      "        0, 0, 0, 0, 0, 0, 0, 0, 0, 0, 0, 0, 0, 0, 0, 0, 0, 0, 0, 0, 0, 0, 0, 0,\n",
      "        0, 0, 0, 0, 0, 0, 0, 0, 0, 0, 0, 0, 0, 0, 0, 0, 0, 0, 0, 0, 0, 0, 0, 0,\n",
      "        0, 0, 0, 1, 1, 1, 1, 1, 1, 1, 1, 1, 1, 1, 1, 1, 1, 1, 1, 1, 1, 1, 1, 1,\n",
      "        1, 1, 1, 1, 1, 1, 1, 1, 1, 1, 1, 1, 1, 1, 1, 1, 1, 1, 1, 1, 1, 1, 1, 1,\n",
      "        1, 1, 1, 1, 1, 1, 1, 1, 1, 1, 1, 1, 1, 1, 1, 1, 1, 1, 1, 1, 1, 1, 1, 1,\n",
      "        1, 1, 1, 1, 1, 1, 2, 2, 2, 2, 2, 2, 2, 2, 2, 2, 2, 2, 2, 2, 2, 2, 2, 2,\n",
      "        2, 2, 2, 2, 2, 2, 2, 2, 2, 2, 2, 2, 2, 2, 2, 2, 2, 2, 2, 2, 2, 2, 2, 2,\n",
      "        2, 2, 2, 2, 2, 2, 2, 2, 2, 2, 2, 2, 2, 2, 2, 2, 2, 2, 2, 2, 2, 2, 2, 2,\n",
      "        2, 2, 2, 2, 2, 2, 2, 2, 2])\n"
     ]
    }
   ],
   "source": [
    "from torch_geometric.loader import DataLoader\n",
    "from torch_geometric.data import Batch\n",
    "\n",
    "loader = DataLoader(dataset, batch_size=3)\n",
    "batch: Batch = next(iter(loader)) \n",
    "\n",
    "print(batch)\n",
    "print(f\"Graphs in the batch: {batch.num_graphs}\")\n",
    "print(batch.batch)"
   ]
  },
  {
   "cell_type": "markdown",
   "id": "49a217c8-45e5-430b-ae38-f3c1403de2fc",
   "metadata": {},
   "source": [
    "The `DataLoader` returns an `iterator`. Each element is a subtype `Batch` of `Data` that contains an additional attribute called `batch`, which maps each node to its respective graph in the batch.\n",
    "In our example we have a `batch_size` of $3$, so each batch contains $3$ graphs. The property `batch` in fact contains integers from $0$ to $batch\\_size - 1$ indicating at which graph the node belogns.\n",
    "\n",
    "This is due the fact that PyG achieves parallelization over a `mini-batch` by creating sparse block diagonal adjacency matrices (defined by `edge_index`) and concatenating feature and target matrices in the node dimension."
   ]
  },
  {
   "cell_type": "markdown",
   "id": "4776550c-dd71-438c-b9ea-292e71698473",
   "metadata": {},
   "source": [
    "# Mini-Batching\n",
    "Since graphs are one of the most general data structures that can hold any number of nodes or edges, for grouping them in to batches we can stack the adjacency matrices in a diagonal fashion (creating a giant graph that holds multiple isolated subgraphs), and node and target features are simply concatenated in the node dimension.\n",
    "$$\n",
    "\\begin{split}\\mathbf{A} = \\begin{bmatrix} \\mathbf{A}_1 & & \\\\ & \\ddots & \\\\ & & \\mathbf{A}_n \\end{bmatrix}, \\qquad \\mathbf{X} = \\begin{bmatrix} \\mathbf{X}_1 \\\\ \\vdots \\\\ \\mathbf{X}_n \\end{bmatrix}, \\qquad \\mathbf{Y} = \\begin{bmatrix} \\mathbf{Y}_1 \\\\ \\vdots \\\\ \\mathbf{Y}_n \\end{bmatrix}.\\end{split}\n",
    "$$\n",
    "\n",
    "We have the following benefits:\n",
    "\n",
    "1. GNN operators that rely on a message passing scheme do not need to be modified since messages still cannot be exchanged between two nodes that belong to different graphs.\n",
    "\n",
    "2. There is no computational or memory overhead. For example, this batching procedure works completely without any padding of node or edge features. Note that there is no additional memory overhead for adjacency matrices since they are saved in a sparse fashion holding only non-zero entries, i.e., the edges.\n",
    "\n",
    "We can plot the gigant dense adjency matrix to understand the concatenation:\n"
   ]
  },
  {
   "cell_type": "code",
   "execution_count": 9,
   "id": "12c6e3f5-b397-44a8-9ba9-7e40e5222638",
   "metadata": {},
   "outputs": [
    {
     "name": "stdout",
     "output_type": "stream",
     "text": [
      "Matrix dimension: torch.Size([225, 225])\n"
     ]
    },
    {
     "data": {
      "image/png": "[encoded data removed]",
      "text/plain": [
       "<Figure size 480x480 with 1 Axes>"
      ]
     },
     "metadata": {},
     "output_type": "display_data"
    }
   ],
   "source": [
    "import matplotlib.pyplot as plt\n",
    "from torch_geometric.utils import to_dense_adj\n",
    "\n",
    "adj = to_dense_adj(batch.edge_index)[0]\n",
    "print(f\"Matrix dimension: {adj.shape}\")\n",
    "plt.matshow(adj)\n",
    "plt.axis(\"off\")\n",
    "plt.show()"
   ]
  },
  {
   "cell_type": "markdown",
   "id": "284f2bec-7075-4768-b089-33b8f852626b",
   "metadata": {},
   "source": [
    "# Create random graphs, join them and create a mini-batch\n",
    "\n",
    "## Create a random graph\n",
    "To create a basic random graph i.e a `Data` object which only contains $1$ node feature and a sparse graph representation, we can generate random tensors and construct `Data` like in the first example."
   ]
  },
  {
   "cell_type": "code",
   "execution_count": 10,
   "id": "76e98d69-6749-4879-b87a-804588558694",
   "metadata": {},
   "outputs": [
    {
     "name": "stdout",
     "output_type": "stream",
     "text": [
      "Graph is valid: True\n"
     ]
    }
   ],
   "source": [
    "def generate_random_graph(num_nodes: int = 75, num_edges: int = 1500) -> Data:\n",
    "    edges: torch.Tensor = torch.randint(0, num_nodes, (num_edges, 2), dtype=torch.long)\n",
    "    x: torch.Tensor = torch.rand((num_nodes, 1))\n",
    "    return Data(x=x, edge_index=edges.t().contiguous()).coalesce()\n",
    "\n",
    "\n",
    "data: Data = generate_random_graph()\n",
    "print(f\"Graph is valid: {data.validate(raise_on_error=True)}\")"
   ]
  },
  {
   "cell_type": "code",
   "execution_count": 11,
   "id": "f8adc01e-d38f-47b8-a39c-3fb4fabbea50",
   "metadata": {},
   "outputs": [
    {
     "name": "stdout",
     "output_type": "stream",
     "text": [
      "497 ms ± 7.07 ms per loop (mean ± std. dev. of 7 runs, 1 loop each)\n"
     ]
    }
   ],
   "source": [
    "%timeit [generate_random_graph() for i in range(1000)]"
   ]
  },
  {
   "cell_type": "markdown",
   "id": "0b1f5740-a36b-4b64-930f-df0d93649931",
   "metadata": {},
   "source": [
    "## Create a Batch from generated data\n",
    "\n",
    "For creating a Batch from generated `Data` we can use the `classmethod` `Batch.from_data_list()`, from the module `torch_geometric.data.Batch` documented [here](https://pytorch-geometric.readthedocs.io/en/latest/generated/torch_geometric.data.Batch.html#torch_geometric.data.Batch.from_data_list).\n",
    "\n",
    "We have to provide a `List[Data]` and set the parameter `follow_batch` with a list of keys that we want to mantain the batch information. (In this example suppose we want to track batch information of `x`)"
   ]
  },
  {
   "cell_type": "code",
   "execution_count": 12,
   "id": "99456015-f4aa-444d-87d3-a7a5a0dd456f",
   "metadata": {},
   "outputs": [
    {
     "name": "stdout",
     "output_type": "stream",
     "text": [
      "DataBatch(x=[8, 1], x_batch=[8], x_ptr=[3], edge_index=[2, 14], batch=[8], ptr=[3])\n",
      "First data edges:\n",
      "tensor([[0, 1, 1, 2, 2, 2, 3],\n",
      "        [3, 0, 3, 0, 1, 3, 3]])\n",
      "Second data edges:\n",
      "tensor([[0, 1, 2, 2, 2, 3, 3],\n",
      "        [2, 0, 0, 1, 3, 2, 3]])\n",
      "Batch information for x: tensor([0, 0, 0, 0, 1, 1, 1, 1])\n",
      "ptr information: tensor([0, 4, 8])\n"
     ]
    }
   ],
   "source": [
    "from torch_geometric.data import Batch\n",
    "torch.manual_seed(2)\n",
    "\n",
    "generated_batch: Batch = Batch.from_data_list(\n",
    "    data_list=[generate_random_graph(4,10) for i in range(2)],\n",
    "    follow_batch=['x']\n",
    ")\n",
    "print(generated_batch)\n",
    "print(f\"First data edges:\\n{generated_batch[0].edge_index}\")\n",
    "print(f\"Second data edges:\\n{generated_batch[1].edge_index}\")\n",
    "print(f\"Batch information for x: {generated_batch.x_batch}\")\n",
    "print(f\"ptr information: {generated_batch.ptr}\")\n"
   ]
  },
  {
   "cell_type": "markdown",
   "id": "a466aa8b-3d01-40ce-9742-07c6c2bef1b2",
   "metadata": {},
   "source": [
    "As we can see, if we access the `edge_index` attribute of a specific data, we get it's specific attribute.\n",
    "In `x_batch` we can find the index of the graph that has that attribute, i.e. the first four `x` are of graph at index $0$ and the others are of graph at index $1$.\n",
    "\n",
    "A global position information is stored in the field `ptr`. In this example it says that the first graph node features (`x`) are stored from `[0,4)` and the second is from `[4,8)`.\n",
    "\n",
    "Like in the previous section, we can plot the gigant matrix if we convert it to dense first.\n",
    "(For demonstration we will generate a new batch composed of 3 bigger random graphs)"
   ]
  },
  {
   "cell_type": "code",
   "execution_count": 13,
   "id": "ded5ba32-ebbb-4f25-b92a-b870c0e61751",
   "metadata": {},
   "outputs": [
    {
     "data": {
      "image/png": "[encoded data removed]",
      "text/plain": [
       "<Figure size 480x480 with 1 Axes>"
      ]
     },
     "metadata": {},
     "output_type": "display_data"
    }
   ],
   "source": [
    "plot_batch: Batch = Batch.from_data_list(\n",
    "    data_list=[generate_random_graph(75,1500) for i in range(3)],\n",
    ")\n",
    "\n",
    "adj = to_dense_adj(plot_batch.edge_index)[0]\n",
    "plt.matshow(adj)\n",
    "plt.axis(\"off\")\n",
    "plt.show()"
   ]
  },
  {
   "cell_type": "markdown",
   "id": "065687c6-0b77-40f1-9e97-130ef4178d20",
   "metadata": {},
   "source": [
    "# Concatenate Batches\n",
    "\n",
    "Concatenating batches is an expensive operation, since we have to convert the batches in `list`, concatenate them and then tranform them back in a `Batch`."
   ]
  },
  {
   "cell_type": "code",
   "execution_count": 20,
   "id": "9734a600-e6f3-4c6a-8a9c-12044bb21855",
   "metadata": {},
   "outputs": [
    {
     "name": "stdout",
     "output_type": "stream",
     "text": [
      "DataBatch(x=[9, 1], edge_index=[2, 20], batch=[9], ptr=[4])\n",
      "Concatenated edge_index:\n",
      "tensor([[0, 0, 1, 1, 1, 2, 2, 2, 3, 3, 3, 4, 5, 5, 6, 6, 7, 7, 8, 8],\n",
      "        [0, 2, 0, 1, 2, 0, 1, 2, 3, 4, 5, 5, 4, 5, 7, 8, 6, 8, 7, 8]])\n",
      "Concateted ptr:\n",
      "tensor([0, 3, 6, 9])\n",
      "torch.Size([9, 9])\n"
     ]
    },
    {
     "data": {
      "image/png": "[encoded data removed]",
      "text/plain": [
       "<Figure size 480x480 with 1 Axes>"
      ]
     },
     "metadata": {},
     "output_type": "display_data"
    }
   ],
   "source": [
    "first_batch: Batch = Batch.from_data_list([generate_random_graph(3, 10) for i in range(1)])\n",
    "second_batch: Batch = Batch.from_data_list([generate_random_graph(3, 10) for i in range(2)])\n",
    "\n",
    "concatenated: Batch = Batch.from_data_list(\n",
    "    first_batch.to_data_list() +\n",
    "    second_batch.to_data_list()\n",
    ")\n",
    "\n",
    "print(concatenated)\n",
    "print(f\"Concatenated edge_index:\\n{concatenated.edge_index}\")\n",
    "print(f\"Concateted ptr:\\n{concatenated.ptr}\")\n",
    "\n",
    "adj = to_dense_adj(concatenated.edge_index)[0]\n",
    "plt.matshow(adj)\n",
    "plt.axis(\"off\")\n",
    "plt.show()"
   ]
  },
  {
   "cell_type": "markdown",
   "id": "55dfb3b9-d055-4777-8329-f60bbeeec94b",
   "metadata": {},
   "source": [
    "# Dense representation\n",
    "\n",
    "Sometimes want to use the dense representation.\n",
    "Suppose a more complex example where `num_nodes` vary across graphs."
   ]
  },
  {
   "cell_type": "code",
   "execution_count": 15,
   "id": "e3c2e365-9f04-4004-b863-022f99f685f4",
   "metadata": {},
   "outputs": [
    {
     "name": "stdout",
     "output_type": "stream",
     "text": [
      "Node features: tensor([[0.7487, 0.7893, 0.5693, 0.7754, 0.1346, 0.1483, 0.3696, 0.6327, 0.3391,\n",
      "         0.0582, 0.3220, 0.1224]]), torch.Size([12, 1])\n",
      "Batch vector: tensor([0, 0, 0, 0, 1, 1, 1, 2, 2, 2, 2, 2])\n"
     ]
    }
   ],
   "source": [
    "from torch_geometric.utils import to_dense_batch\n",
    "\n",
    "data: Batch = Batch.from_data_list([\n",
    "    generate_random_graph(4, 10),\n",
    "    generate_random_graph(3, 10),\n",
    "    generate_random_graph(5, 10)\n",
    "])\n",
    "print(f\"Node features: {data.x.T}, {data.x.shape}\")\n",
    "print(f\"Batch vector: {data.batch}\")"
   ]
  },
  {
   "cell_type": "markdown",
   "id": "5138a655-444f-45be-98b0-5e0da24d6bdb",
   "metadata": {},
   "source": [
    "We can see that the node feature is a `12x1` tensor, because we have $12$ total nodes and $1$ feature.\n",
    "The bacth vector indicates as usual, at which graphs the nodes belogs.\n",
    "\n",
    "To get a dense node feature tensor, we can use [to_dense_batch](https://pytorch-geometric.readthedocs.io/en/latest/modules/utils.html#torch_geometric.utils.to_dense_batch).\n",
    "\n",
    "We have to pass the node feature `x`, i.e. `data.x` and the batch vector, i.e. `data.batch`.\n",
    "The results will be $2$ tensors: the `output` and a `mask`.\n",
    "The output shape will be `[batch_size, max_num_nodes, features]`. In our example we have, $3$ graphs, the biggest graph has $5$ nodes and theri is just $1$ feature, so we will have a shape of `[3, 5, 1]`.\n",
    "\n",
    "Note that the smaller graphs will be filled with default values (like `0.`).\n",
    "To regognize real nodes and fake nodes we will use the `mask`.\n",
    "The `mask` is a boolean tesor of shape `[batch_size, max_num_node]`. A `True` entry indicates the presence of a real node, and `False` indicates that the node is fake and has been added to match dimension.\n"
   ]
  },
  {
   "cell_type": "code",
   "execution_count": 16,
   "id": "0d5ef05b-16ca-4800-ac64-4feae9e4b4d0",
   "metadata": {},
   "outputs": [
    {
     "name": "stdout",
     "output_type": "stream",
     "text": [
      "torch.Size([3, 5, 1])\n",
      "torch.Size([3, 5])\n",
      "tensor([[ True,  True,  True,  True, False],\n",
      "        [ True,  True,  True, False, False],\n",
      "        [ True,  True,  True,  True,  True]])\n"
     ]
    }
   ],
   "source": [
    "out, mask = to_dense_batch(data.x, data.batch)\n",
    "print(out.shape)\n",
    "print(mask.shape)\n",
    "print(mask)"
   ]
  },
  {
   "cell_type": "markdown",
   "id": "2579c736-c008-49aa-995e-37d04c1df5cd",
   "metadata": {},
   "source": [
    "For representing a dense adjency matrix we use [to_dense_adj](https://pytorch-geometric.readthedocs.io/en/latest/modules/utils.html#torch_geometric.utils.to_dense_adj).\n",
    "\n",
    "We "
   ]
  },
  {
   "cell_type": "code",
   "execution_count": 17,
   "id": "7e9746a3-6a2c-4b13-b1cd-0b5f09a9cd52",
   "metadata": {},
   "outputs": [
    {
     "data": {
      "text/plain": [
       "torch.Size([3, 5, 5])"
      ]
     },
     "execution_count": 17,
     "metadata": {},
     "output_type": "execute_result"
    }
   ],
   "source": [
    "adj = to_dense_adj(data.edge_index, data.batch)\n",
    "adj\n",
    "adj.shape  # batch_size, num_nodes, num_nodes"
   ]
  },
  {
   "cell_type": "code",
   "execution_count": 18,
   "id": "ad0ab655-f161-4c14-bb1d-471005871b6e",
   "metadata": {},
   "outputs": [
    {
     "name": "stdout",
     "output_type": "stream",
     "text": [
      "DataBatch(x=[5, 1], edge_index=[2, 8], batch=[5], ptr=[2])\n",
      "tensor([0.8081, 0.3924, 0.2132, 0.5028, 0.9025, 0.2942, 0.0811, 0.8372])\n",
      "tensor([[[0.8081, 0.0000, 0.3924, 0.0000, 0.0000],\n",
      "         [0.0000, 0.2132, 0.0000, 0.0000, 0.0000],\n",
      "         [0.0000, 0.0000, 0.5028, 0.0000, 0.0000],\n",
      "         [0.0000, 0.0000, 0.9025, 0.0000, 0.2942],\n",
      "         [0.0000, 0.0811, 0.0000, 0.0000, 0.8372]]])\n"
     ]
    }
   ],
   "source": [
    "edge_attr = torch.tensor([[1.0, 2.0, 3.0, 4.0, 5.0],\n",
    "                          [1.0, 2.0, 3.0, 4.0, 5.0],\n",
    "                          [1.0, 2.0, 3.0, 4.0, 5.0]])\n",
    "\n",
    "\n",
    "data_list = [generate_random_graph(5,10)]\n",
    "data = Batch.from_data_list(data_list)\n",
    "\n",
    "edge_attr = torch.rand((data.edge_index.shape[1]))\n",
    "print(data)\n",
    "print(edge_attr)\n",
    "\n",
    "data.edge_attr = edge_attr\n",
    "\n",
    "adj = to_dense_adj(data.edge_index, edge_attr=data.edge_attr)\n",
    "\n",
    "print(adj)"
   ]
  },
  {
   "cell_type": "markdown",
   "id": "87d22553-9da7-4c84-a70a-9fe9d0ad314e",
   "metadata": {},
   "source": [
    "# Convert back to sparse"
   ]
  },
  {
   "cell_type": "code",
   "execution_count": 26,
   "id": "a82a4261-750c-4576-baf4-69840cfebd55",
   "metadata": {},
   "outputs": [
    {
     "name": "stdout",
     "output_type": "stream",
     "text": [
      "tensor([[0., 1., 0., 0., 0.],\n",
      "        [0., 0., 0., 0., 0.],\n",
      "        [1., 0., 1., 0., 0.],\n",
      "        [1., 0., 0., 1., 0.],\n",
      "        [0., 0., 0., 1., 1.]])\n",
      "tensor([[0., 0., 1., 1., 0.],\n",
      "        [1., 0., 0., 0., 0.],\n",
      "        [0., 0., 1., 0., 0.],\n",
      "        [0., 0., 0., 1., 1.],\n",
      "        [0., 0., 0., 0., 1.]])\n",
      "[Data(x=[5, 1], edge_index=[2, 7]), Data(x=[4, 1], edge_index=[2, 9]), Data(x=[3, 1], edge_index=[2, 7])]\n",
      "[Data(x=[5, 1], edge_index=[2]), Data(x=[4, 1], edge_index=[2]), Data(x=[3, 1], edge_index=[2])]\n"
     ]
    }
   ],
   "source": [
    "from typing import Tuple, List\n",
    "from torch_geometric.utils import dense_to_sparse\n",
    "\n",
    "\n",
    "def densify(data: Batch) -> Tuple[torch.Tensor, torch.Tensor, torch.Tensor]:\n",
    "    x, mask = to_dense_batch(data.x, data.batch)\n",
    "    adj = to_dense_adj(data.edge_index, data.batch)\n",
    "    return x, adj, mask\n",
    "\n",
    "\n",
    "def to_sparse_list(x, adj, mask, ptr) -> List[Data]:\n",
    "    data = []\n",
    "    for i in range(1, len(ptr)):\n",
    "        sparse_x = x[mask][ptr[i-1]:ptr[i]]\n",
    "        edge_index = dense_to_sparse(adj[i-1], mask)\n",
    "        data.append(Data(x=sparse_x, edge_index=edge_index))\n",
    "    return data\n",
    "\n",
    "\n",
    "test = Batch.from_data_list([\n",
    "    generate_random_graph(5, 10),\n",
    "    generate_random_graph(4, 10),\n",
    "    generate_random_graph(3, 10)\n",
    "])\n",
    "\n",
    "x, adj, mask = densify(test)\n",
    "\n",
    "print(adj[0])\n",
    "print(torch.transpose(adj, 1, 2)[0])\n",
    "\n",
    "print(Batch.to_data_list(test))\n",
    "print(to_sparse_list(x, adj, mask, test.ptr))\n"
   ]
  }
 ],
 "metadata": {
  "kernelspec": {
   "display_name": "Python 3 (ipykernel)",
   "language": "python",
   "name": "python3"
  },
  "language_info": {
   "codemirror_mode": {
    "name": "ipython",
    "version": 3
   },
   "file_extension": ".py",
   "mimetype": "text/x-python",
   "name": "python",
   "nbconvert_exporter": "python",
   "pygments_lexer": "ipython3",
   "version": "3.12.3"
  }
 },
 "nbformat": 4,
 "nbformat_minor": 5
}
