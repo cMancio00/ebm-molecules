{
 "cells": [
  {
   "cell_type": "markdown",
   "id": "1dde4c0b-65a4-4b05-9d58-d42b5d2c41a3",
   "metadata": {},
   "source": [
    "# Handling Graphs\n",
    "\n",
    "In PyG a single graph is described by an instance of `torch_geometric.data.Data`.\n",
    "By defaults, it can handles the following attributes:\n",
    "\n",
    "- `data.x`: Node feature matrix with shape `[num_nodes, num_node_features]`\n",
    "- `data.edge_index`: Graph connectivity in [COO](https://pytorch.org/docs/stable/sparse.html#sparse-coo-docs)(sparse representation) format with shape `[2, num_edges]` and type `torch.long`\n",
    "- `data.edge_attr`: Edge feature matrix with shape `[num_edges, num_edge_features]`\n",
    "- `data.y`: Target to train against (may have arbitrary shape), e.g., node-level targets of shape `[num_nodes, *]` or graph-level targets of shape `[1, *]`\n",
    "- `data.pos`: Node position matrix with shape `[num_nodes, num_dimensions]`\n",
    "\n",
    "None of these attributes are required and we can also add new attributes.\n",
    "\n",
    "A basic example of how to create a graph is the following:"
   ]
  },
  {
   "cell_type": "code",
   "execution_count": 16,
   "id": "2e6d4427-0f2c-4920-a9bb-ac8a65950d55",
   "metadata": {},
   "outputs": [
    {
     "name": "stdout",
     "output_type": "stream",
     "text": [
      "Data(x=[3, 1], edge_index=[2, 4])\n",
      "Node Features: tensor([[-1.,  0.,  1.]])\n",
      "Edges:\n",
      "tensor([[0, 1, 1, 2],\n",
      "        [1, 0, 2, 1]])\n"
     ]
    }
   ],
   "source": [
    "import torch\n",
    "from torch_geometric.data import Data\n",
    "\n",
    "edge_index: torch.Tensor = torch.tensor([[0, 1, 1, 2],\n",
    "                                         [1, 0, 2, 1]], dtype=torch.long)\n",
    "x: torch.Tensor = torch.tensor([[-1], [0], [1]], dtype=torch.float)\n",
    "data: Data = Data(x=x, edge_index=edge_index)\n",
    "print(data)\n",
    "print(f\"Node Features: {data.x.T}\")\n",
    "print(f\"Edges:\\n{data.edge_index}\")"
   ]
  },
  {
   "cell_type": "markdown",
   "id": "1a9950e4-eb41-483a-acf3-b65daae238a5",
   "metadata": {},
   "source": [
    "This will create a graph with $3$ nodes with $1$ feature each and $4$ edges.\n",
    "Note that `edge_index` is created with $2$ separate `list`, the first is for `source` and the second is for `destination`.\n",
    "If we want to create `edge_index` from a list of index tuple we will do the following using `contiguos()`"
   ]
  },
  {
   "cell_type": "code",
   "execution_count": 2,
   "id": "d758c638-3d36-4ac0-a32c-e81a6cec837b",
   "metadata": {},
   "outputs": [
    {
     "name": "stdout",
     "output_type": "stream",
     "text": [
      "Data(x=[3, 1], edge_index=[2, 4])\n",
      "Node Features: tensor([[-1.,  0.,  1.]])\n",
      "Edges:\n",
      "tensor([[0, 1, 1, 2],\n",
      "        [1, 0, 2, 1]])\n"
     ]
    }
   ],
   "source": [
    "edge_index: torch.Tensor = torch.tensor([[0, 1],\n",
    "                                         [1, 0],\n",
    "                                         [1, 2],\n",
    "                                         [2, 1]], dtype=torch.long)\n",
    "x: torch.Tensor = torch.tensor([[-1], [0], [1]], dtype=torch.float)\n",
    "data = Data(x=x, edge_index=edge_index.t().contiguous())\n",
    "print(data)\n",
    "print(f\"Node Features: {data.x.T}\")\n",
    "print(f\"Edges:\\n{data.edge_index}\")"
   ]
  },
  {
   "cell_type": "markdown",
   "id": "3cd2b923-3c76-404c-bbca-455d80689664",
   "metadata": {},
   "source": [
    "The result is the same.\n",
    "\n",
    "It is necessary that the elements in `edge_index` only hold indices in the range `{ 0, ..., num_nodes - 1}`.\n",
    "This can be checked using `validate()` on the `Data` object"
   ]
  },
  {
   "cell_type": "code",
   "execution_count": 3,
   "id": "7298ee18-85c6-4b2f-aea6-60335402bb8d",
   "metadata": {},
   "outputs": [
    {
     "name": "stdout",
     "output_type": "stream",
     "text": [
      "Graph is valid: True\n"
     ]
    }
   ],
   "source": [
    "print(f\"Graph is valid: {data.validate(raise_on_error=True)}\")"
   ]
  },
  {
   "cell_type": "markdown",
   "id": "3eda3c22-fc38-4a87-96f0-4a1c6368f78e",
   "metadata": {},
   "source": [
    "Since a `Data` object is composed by Tensors, we can tranfer the graph on GPU"
   ]
  },
  {
   "cell_type": "code",
   "execution_count": 4,
   "id": "8aa843a9-9814-479f-830e-e098102d3ddf",
   "metadata": {},
   "outputs": [
    {
     "name": "stdout",
     "output_type": "stream",
     "text": [
      "Features on: cuda:0\n",
      "Edges on: cuda:0\n"
     ]
    }
   ],
   "source": [
    "device = torch.device(\"cuda:0\")\n",
    "data.to(device)\n",
    "print(f\"Features on: {data.x.device}\")\n",
    "print(f\"Edges on: {data.edge_index.device}\")"
   ]
  },
  {
   "cell_type": "markdown",
   "id": "cf5e2d84-1e56-4a5c-ba7c-2ca8e7bde20a",
   "metadata": {},
   "source": [
    "# Importing a dataset\n",
    "\n",
    "PyG offers a wide range of ready to use datasets in the `torch_geometric.datasets` package. A full list of datasets can be found [here](https://pytorch-geometric.readthedocs.io/en/latest/modules/datasets.html).\n",
    "For this example we will use `MNISTSuperpixels`, a graph variant of the common `MNIST` dataset."
   ]
  },
  {
   "cell_type": "code",
   "execution_count": 5,
   "id": "dfd23071-c4f8-48d3-90ca-9a7b467f6d40",
   "metadata": {},
   "outputs": [],
   "source": [
    "from torch_geometric.datasets import MNISTSuperpixels\n",
    "\n",
    "MNIST_PATH = \"../datasets/MNISTSuperpixel\"\n",
    "dataset = MNISTSuperpixels(root=MNIST_PATH)"
   ]
  },
  {
   "cell_type": "markdown",
   "id": "c4794823-5f8b-44f8-a87a-f8e354b15e3b",
   "metadata": {},
   "source": [
    "We can get some basic information about the dataset"
   ]
  },
  {
   "cell_type": "code",
   "execution_count": 6,
   "id": "e2a10b47-aec2-4a57-8cf9-932307c4fde5",
   "metadata": {},
   "outputs": [
    {
     "name": "stdout",
     "output_type": "stream",
     "text": [
      "MNISTSuperpixels(60000)\n",
      "Classes: 10\n",
      "Node features: 1\n",
      "Edge features: 0\n"
     ]
    }
   ],
   "source": [
    "print(dataset)\n",
    "print(f\"Classes: {dataset.num_classes}\")\n",
    "print(f\"Node features: {dataset.num_node_features}\")\n",
    "print(f\"Edge features: {dataset.num_edge_features}\")"
   ]
  },
  {
   "cell_type": "markdown",
   "id": "74cdedb2-bb0b-40dd-9801-c61dd3d3f460",
   "metadata": {},
   "source": [
    "We have access to all the dataset and we can get a graph by direct access or slicing a subset."
   ]
  },
  {
   "cell_type": "code",
   "execution_count": 7,
   "id": "17f067de-d06b-4872-b4ca-a1623e4a1e60",
   "metadata": {},
   "outputs": [
    {
     "name": "stdout",
     "output_type": "stream",
     "text": [
      "Data(x=[75, 1], edge_index=[2, 1399], y=[1], pos=[75, 2])\n",
      "MNISTSuperpixels(100)\n"
     ]
    }
   ],
   "source": [
    "print(dataset[0])\n",
    "sliced = dataset[:100]\n",
    "print(sliced)"
   ]
  },
  {
   "cell_type": "markdown",
   "id": "73014ff4-28db-46be-993b-59d34fd7d981",
   "metadata": {},
   "source": [
    "Like in PyTorch, PyG offers a `DataLoader` class in `torch_geometric.loader` module.\n",
    "A `Dataloader` is used to get batches from a dataset\n",
    "In our example we can use:"
   ]
  },
  {
   "cell_type": "code",
   "execution_count": 15,
   "id": "8331de89-5a24-4954-bcfb-ec4841105cf3",
   "metadata": {},
   "outputs": [
    {
     "name": "stdout",
     "output_type": "stream",
     "text": [
      "DataBatch(x=[225, 1], edge_index=[2, 4019], y=[3], pos=[225, 2], batch=[225], ptr=[4])\n",
      "Graphs in the batch: 3\n",
      "tensor([0, 0, 0, 0, 0, 0, 0, 0, 0, 0, 0, 0, 0, 0, 0, 0, 0, 0, 0, 0, 0, 0, 0, 0,\n",
      "        0, 0, 0, 0, 0, 0, 0, 0, 0, 0, 0, 0, 0, 0, 0, 0, 0, 0, 0, 0, 0, 0, 0, 0,\n",
      "        0, 0, 0, 0, 0, 0, 0, 0, 0, 0, 0, 0, 0, 0, 0, 0, 0, 0, 0, 0, 0, 0, 0, 0,\n",
      "        0, 0, 0, 1, 1, 1, 1, 1, 1, 1, 1, 1, 1, 1, 1, 1, 1, 1, 1, 1, 1, 1, 1, 1,\n",
      "        1, 1, 1, 1, 1, 1, 1, 1, 1, 1, 1, 1, 1, 1, 1, 1, 1, 1, 1, 1, 1, 1, 1, 1,\n",
      "        1, 1, 1, 1, 1, 1, 1, 1, 1, 1, 1, 1, 1, 1, 1, 1, 1, 1, 1, 1, 1, 1, 1, 1,\n",
      "        1, 1, 1, 1, 1, 1, 2, 2, 2, 2, 2, 2, 2, 2, 2, 2, 2, 2, 2, 2, 2, 2, 2, 2,\n",
      "        2, 2, 2, 2, 2, 2, 2, 2, 2, 2, 2, 2, 2, 2, 2, 2, 2, 2, 2, 2, 2, 2, 2, 2,\n",
      "        2, 2, 2, 2, 2, 2, 2, 2, 2, 2, 2, 2, 2, 2, 2, 2, 2, 2, 2, 2, 2, 2, 2, 2,\n",
      "        2, 2, 2, 2, 2, 2, 2, 2, 2])\n"
     ]
    }
   ],
   "source": [
    "from torch_geometric.loader import DataLoader\n",
    "from torch_geometric.data import Batch\n",
    "\n",
    "loader = DataLoader(dataset, batch_size=3, shuffle=True)\n",
    "batch: Batch = next(iter(loader)) \n",
    "\n",
    "print(batch)\n",
    "print(f\"Graphs in the batch: {batch.num_graphs}\")\n",
    "print(batch.batch)"
   ]
  },
  {
   "cell_type": "markdown",
   "id": "49a217c8-45e5-430b-ae38-f3c1403de2fc",
   "metadata": {},
   "source": [
    "The `DataLoader` returns an `iterator`. Each element is a subtype `Batch` of `Data` that contains an additional attribute called `batch`, which maps each node to its respective graph in the batch.\n",
    "In our example we have a `batch_size` of $3$, so each batch contains $3$ graphs. The property `batch` in fact contains integers from $0$ to $batch\\_size - 1$ indicating at which graph the node belogns.\n",
    "\n",
    "This is due the fact that PyG achieves parallelization over a `mini-batch` by creating sparse block diagonal adjacency matrices (defined by `edge_index`) and concatenating feature and target matrices in the node dimension."
   ]
  },
  {
   "cell_type": "markdown",
   "id": "4776550c-dd71-438c-b9ea-292e71698473",
   "metadata": {},
   "source": []
  }
 ],
 "metadata": {
  "kernelspec": {
   "display_name": "Python 3 (ipykernel)",
   "language": "python",
   "name": "python3"
  },
  "language_info": {
   "codemirror_mode": {
    "name": "ipython",
    "version": 3
   },
   "file_extension": ".py",
   "mimetype": "text/x-python",
   "name": "python",
   "nbconvert_exporter": "python",
   "pygments_lexer": "ipython3",
   "version": "3.12.3"
  }
 },
 "nbformat": 4,
 "nbformat_minor": 5
}
