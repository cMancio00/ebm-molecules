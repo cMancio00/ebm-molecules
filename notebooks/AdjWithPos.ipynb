{
 "cells": [
  {
   "cell_type": "code",
   "execution_count": 39,
   "id": "6bebb49d-386f-4d30-a235-471b1defa987",
   "metadata": {},
   "outputs": [],
   "source": [
    "from torch_geometric.loader import DataLoader\n",
    "from torch.utils.data import Dataset\n",
    "from torch_geometric.data import Data\n",
    "from torch_geometric.utils import to_dense_adj\n",
    "import torch as th\n",
    "from torch_geometric.datasets import MNISTSuperpixels\n",
    "from utils.data import DenseGraphDataset\n",
    "from torch import nn, norm\n",
    "\n",
    "MNIST_PATH = \"../datasets/MNISTSuperpixel/\"\n",
    "dataset = MNISTSuperpixels(MNIST_PATH)[:20]\n",
    "train_loader = DataLoader(dataset, batch_size=5)\n",
    "loader = next(iter(train_loader))"
   ]
  },
  {
   "cell_type": "code",
   "execution_count": 46,
   "id": "1494ab41-97e4-4326-9ad9-d66c1549c812",
   "metadata": {},
   "outputs": [
    {
     "name": "stdout",
     "output_type": "stream",
     "text": [
      "tensor([[[0.0000, 0.0000, 0.0000,  ..., 0.0000, 0.0000, 0.0000],\n",
      "         [0.0000, 0.0000, 0.0000,  ..., 5.5167, 0.0000, 5.1165],\n",
      "         [0.0000, 0.0000, 0.0000,  ..., 8.2770, 0.0000, 0.0000],\n",
      "         ...,\n",
      "         [0.0000, 5.5167, 8.2770,  ..., 0.0000, 7.6348, 0.0000],\n",
      "         [0.0000, 0.0000, 0.0000,  ..., 7.6348, 0.0000, 0.0000],\n",
      "         [0.0000, 5.1165, 0.0000,  ..., 0.0000, 0.0000, 0.0000]]])\n"
     ]
    }
   ],
   "source": [
    "adj = []\n",
    "for i in range(len(loader)):\n",
    "    row, col = loader[i].edge_index\n",
    "    edge_attr = norm(loader[i].pos[row] - loader[i].pos[col], p=2, dim=1)\n",
    "    adj.append(\n",
    "        to_dense_adj(edge_index=loader[i].edge_index, edge_attr=edge_attr)\n",
    "    )\n",
    "print(adj[0])"
   ]
  }
 ],
 "metadata": {
  "kernelspec": {
   "display_name": "Python 3 (ipykernel)",
   "language": "python",
   "name": "python3"
  },
  "language_info": {
   "codemirror_mode": {
    "name": "ipython",
    "version": 3
   },
   "file_extension": ".py",
   "mimetype": "text/x-python",
   "name": "python",
   "nbconvert_exporter": "python",
   "pygments_lexer": "ipython3",
   "version": "3.12.3"
  }
 },
 "nbformat": 4,
 "nbformat_minor": 5
}
