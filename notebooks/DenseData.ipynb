{
 "cells": [
  {
   "cell_type": "code",
   "execution_count": 16,
   "id": "0863ab5f-a9de-4b3c-8fc1-dffa86b9352d",
   "metadata": {},
   "outputs": [
    {
     "name": "stdout",
     "output_type": "stream",
     "text": [
      "DenseElement(DenseData(x=(5, 75, 3), adj=(5, 75, 75), mask=(5, 75)), y=(5,))\n"
     ]
    }
   ],
   "source": [
    "from torch_geometric.loader import DataLoader\n",
    "from torch_geometric.data import Batch, Dataset\n",
    "from torch_geometric.datasets import MNISTSuperpixels\n",
    "import torch\n",
    "from typing import Any, Iterator, Tuple\n",
    "from torch_geometric.utils import to_dense_batch, to_dense_adj\n",
    "from dataclasses import dataclass\n",
    "\n",
    "\n",
    "@dataclass(frozen=True)\n",
    "class DenseData:\n",
    "    x: torch.Tensor\n",
    "    adj: torch.Tensor\n",
    "    mask: torch.Tensor\n",
    "\n",
    "    def __repr__(self):\n",
    "        return (\n",
    "            f\"DenseData(\"\n",
    "            f\"x={tuple(self.x.shape)}, \"\n",
    "            f\"adj={tuple(self.adj.shape)}, \"\n",
    "            f\"mask={tuple(self.mask.shape)})\"\n",
    "        )\n",
    "\n",
    "\n",
    "@dataclass(frozen=True)\n",
    "class DenseElemet:\n",
    "    data: DenseData\n",
    "    y: torch.Tensor\n",
    "\n",
    "    def __repr__(self):\n",
    "        return (\n",
    "            f\"DenseElement(\"\n",
    "            f\"{self.data.__repr__()}, \"\n",
    "            f\"y={tuple(self.y.shape)})\"\n",
    "        )\n",
    "\n",
    "\n",
    "def densify(data: Batch) -> Tuple[torch.Tensor, torch.Tensor, torch.Tensor]:\n",
    "    x, mask = to_dense_batch(\n",
    "        torch.cat((data.x, data.pos), dim=1),\n",
    "        data.batch\n",
    "    )\n",
    "    adj = to_dense_adj(data.edge_index, data.batch)\n",
    "    return DenseElemet(DenseData(x, adj, mask), data.y)\n",
    "\n",
    "\n",
    "class DenseMNISTDataLoader(DataLoader):\n",
    "    def __init__(\n",
    "        self,\n",
    "        dataset: Dataset,\n",
    "        batch_size: int = 1,\n",
    "        shuffle: bool = False,\n",
    "        follow_batch: Any = None,\n",
    "        exclude_keys: Any = None,\n",
    "        **kwargs,\n",
    "    ):\n",
    "        kwargs.pop('collate_fn', None)\n",
    "\n",
    "        super().__init__(\n",
    "            dataset,\n",
    "            batch_size=batch_size,\n",
    "            shuffle=shuffle,\n",
    "            follow_batch=follow_batch,\n",
    "            exclude_keys=exclude_keys,\n",
    "            **kwargs,\n",
    "        )\n",
    "\n",
    "    def __iter__(self) -> Iterator[DenseElemet]:\n",
    "        for batch in super().__iter__():\n",
    "            yield densify(batch)\n",
    "\n",
    "\n",
    "device = torch.device(\"cuda\" if torch.cuda.is_available() else \"cpu\")\n",
    "MNIST_PATH = \"../datasets/MNISTSuperpixel\"\n",
    "data_module = MNISTSuperpixels(MNIST_PATH)\n",
    "data_module.to(device)\n",
    "loader = DenseMNISTDataLoader(data_module, batch_size=5)\n",
    "batch = next(iter(loader))\n",
    "print(batch)"
   ]
  },
  {
   "cell_type": "code",
   "execution_count": 3,
   "id": "b33745d6-3ceb-48df-b11d-9b0c706bcf89",
   "metadata": {},
   "outputs": [],
   "source": [
    "from DataModules import MNISTSuperpixelDataModule\n",
    "\n",
    "MNIST_PATH = \"../datasets/MNISTSuperpixel\"\n",
    "data_module = MNISTSuperpixelDataModule(MNIST_PATH)\n",
    "data_module.setup(\"fit\")\n",
    "loader = data_module.train_dataloader()\n",
    "a = next(iter(loader))"
   ]
  },
  {
   "cell_type": "code",
   "execution_count": 11,
   "id": "509e1661-c8f0-4ce2-b573-b8a64d3db7e7",
   "metadata": {},
   "outputs": [],
   "source": [
    "x, adj, mask = a.data.x, a.data.adj, a.data.mask"
   ]
  },
  {
   "cell_type": "code",
   "execution_count": 19,
   "id": "021ef0ac-e63e-4e79-a2dd-4b030ffb5721",
   "metadata": {},
   "outputs": [
    {
     "data": {
      "text/plain": [
       "torch.Size([32, 75, 3])"
      ]
     },
     "execution_count": 19,
     "metadata": {},
     "output_type": "execute_result"
    }
   ],
   "source": [
    "x.shape"
   ]
  }
 ],
 "metadata": {
  "kernelspec": {
   "display_name": "Python 3 (ipykernel)",
   "language": "python",
   "name": "python3"
  },
  "language_info": {
   "codemirror_mode": {
    "name": "ipython",
    "version": 3
   },
   "file_extension": ".py",
   "mimetype": "text/x-python",
   "name": "python",
   "nbconvert_exporter": "python",
   "pygments_lexer": "ipython3",
   "version": "3.12.3"
  }
 },
 "nbformat": 4,
 "nbformat_minor": 5
}
