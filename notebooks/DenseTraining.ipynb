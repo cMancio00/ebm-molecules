{
 "cells": [
  {
   "cell_type": "code",
   "execution_count": 2,
   "id": "56733a08-89a0-4426-bce3-ca39622e46bc",
   "metadata": {},
   "outputs": [],
   "source": [
    "import torch\n",
    "from torch_geometric.data import Dataset\n",
    "from torch_geometric.datasets import MNISTSuperpixels\n",
    "from torch_geometric.loader import DataLoader\n",
    "import torch.nn.functional as F\n",
    "from torch_geometric.nn import Linear\n",
    "from torch_geometric.nn.dense import DenseGCNConv\n",
    "from torch_geometric.utils import to_dense_batch\n",
    "from torch_geometric.utils import to_dense_adj\n",
    "import time\n",
    "\n",
    "\n",
    "torch.manual_seed(1)\n",
    "device = torch.device(\"cuda\" if torch.cuda.is_available() else \"cpu\")\n",
    "MNIST_PATH = \"../datasets/MNISTSuperpixel\"\n",
    "\n",
    "dataset: Dataset = MNISTSuperpixels(root=MNIST_PATH).shuffle()\n",
    "test_dataset: Dataset = MNISTSuperpixels(root=MNIST_PATH, train=False)\n",
    "train_loader = DataLoader(dataset, batch_size=128, shuffle=True)\n",
    "test_loader = DataLoader(test_dataset, batch_size=128)"
   ]
  },
  {
   "cell_type": "code",
   "execution_count": 3,
   "id": "5493d384-041e-4f04-bb1a-ab900fa41a98",
   "metadata": {},
   "outputs": [],
   "source": [
    "class GCN_Dense(torch.nn.Module):\n",
    "    def __init__(self, in_channels, hidden_channels, out_channels):\n",
    "        super().__init__()\n",
    "\n",
    "        self.conv1 = DenseGCNConv(in_channels, hidden_channels)\n",
    "        self.conv2 = DenseGCNConv(hidden_channels, hidden_channels)\n",
    "        self.conv3 = DenseGCNConv(hidden_channels, hidden_channels)\n",
    "        self.lin = Linear(hidden_channels, out_channels)\n",
    "\n",
    "    def forward(self, x, adj, mask):\n",
    "        x = self.conv1(x, adj, mask).relu()\n",
    "        x = self.conv2(x, adj, mask).relu()\n",
    "        x = self.conv3(x, adj, mask).relu()\n",
    "        x = x.sum(dim=1)\n",
    "        return self.lin(x)"
   ]
  },
  {
   "cell_type": "code",
   "execution_count": 4,
   "id": "6e3d1caf-52bb-4a95-9e47-3d4d4190dbd2",
   "metadata": {},
   "outputs": [],
   "source": [
    "model = GCN_Dense(\n",
    "    in_channels=dataset.num_features,\n",
    "    hidden_channels=32,\n",
    "    out_channels=dataset.num_classes,\n",
    ").to(device)\n",
    "\n",
    "optimizer = torch.optim.Adam(model.parameters(), lr=0.01)"
   ]
  },
  {
   "cell_type": "code",
   "execution_count": 5,
   "id": "8baf82f1-8097-487a-8beb-6f8347cd8d47",
   "metadata": {},
   "outputs": [],
   "source": [
    "def train():\n",
    "    model.train()\n",
    "\n",
    "    total_loss = 0\n",
    "    for data in train_loader:\n",
    "        data = data.to(device)\n",
    "        x, mask = to_dense_batch(data.x, data.batch)\n",
    "        adj = to_dense_adj(data.edge_index, data.batch)\n",
    "        optimizer.zero_grad()\n",
    "        out = model(x, adj, mask)\n",
    "        loss = F.cross_entropy(out, data.y)\n",
    "        loss.backward()\n",
    "        optimizer.step()\n",
    "        total_loss += float(loss) * data.num_graphs\n",
    "    return total_loss / len(train_loader.dataset)\n",
    "\n",
    "\n",
    "@torch.no_grad()\n",
    "def test(loader):\n",
    "    model.eval()\n",
    "\n",
    "    total_correct = 0\n",
    "    for data in loader:\n",
    "        data = data.to(device)\n",
    "        x, mask = to_dense_batch(data.x, data.batch)\n",
    "        adj = to_dense_adj(data.edge_index, data.batch)\n",
    "        out = model(x, adj, mask)\n",
    "        pred = out.argmax(dim=-1)\n",
    "        total_correct += int((pred == data.y).sum())\n",
    "    return total_correct / len(loader.dataset)"
   ]
  },
  {
   "cell_type": "code",
   "execution_count": 6,
   "id": "9ebc8a3b-e156-486e-8300-12eb9ebd8022",
   "metadata": {},
   "outputs": [
    {
     "name": "stdout",
     "output_type": "stream",
     "text": [
      "Epoch: 100, Loss: 1.5549, Train_acc: 0.4321, Test_acc: 0.4421\n",
      "Median time per epoch: 12.5307s\n"
     ]
    }
   ],
   "source": [
    "times = []\n",
    "for epoch in range(1, 101):\n",
    "    start = time.time()\n",
    "    loss = train()\n",
    "    train_acc = test(train_loader)\n",
    "    test_acc = test(test_loader)\n",
    "    times.append(time.time() - start)\n",
    "    print(f'\\rEpoch: {epoch:03d}, Loss: {loss:.4f}, Train_acc: {train_acc:.4f}, '\n",
    "          f'Test_acc: {test_acc:.4f}', end=\"\")\n",
    "print(f'\\nMedian time per epoch: {torch.tensor(times).median():.4f}s')"
   ]
  },
  {
   "cell_type": "code",
   "execution_count": 7,
   "id": "01e76332-74d5-4121-a072-5fd7013e8eec",
   "metadata": {},
   "outputs": [],
   "source": [
    "torch.save(model.state_dict(), \"checkpoints/dense/small_dense.pt\")"
   ]
  }
 ],
 "metadata": {
  "kernelspec": {
   "display_name": "Python 3 (ipykernel)",
   "language": "python",
   "name": "python3"
  },
  "language_info": {
   "codemirror_mode": {
    "name": "ipython",
    "version": 3
   },
   "file_extension": ".py",
   "mimetype": "text/x-python",
   "name": "python",
   "nbconvert_exporter": "python",
   "pygments_lexer": "ipython3",
   "version": "3.12.3"
  }
 },
 "nbformat": 4,
 "nbformat_minor": 5
}
