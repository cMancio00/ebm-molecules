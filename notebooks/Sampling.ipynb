{
 "cells": [
  {
   "cell_type": "code",
   "execution_count": 3,
   "id": "dede3aab-cb96-4996-9fd1-47f820e6d29d",
   "metadata": {},
   "outputs": [
    {
     "data": {
      "text/plain": [
       "<All keys matched successfully>"
      ]
     },
     "execution_count": 3,
     "metadata": {},
     "output_type": "execute_result"
    }
   ],
   "source": [
    "import torch\n",
    "from torch_geometric.data import Dataset\n",
    "import torch.nn.functional as F\n",
    "from torch_geometric.nn import Linear\n",
    "from torch_geometric.nn.dense import DenseGCNConv\n",
    "from torch_geometric.utils import to_dense_batch, to_dense_adj\n",
    "from torch_geometric.data import Data, Batch\n",
    "\n",
    "torch.manual_seed(1)\n",
    "device = torch.device(\"cuda\" if torch.cuda.is_available() else \"cpu\")\n",
    "\n",
    "\n",
    "def generate_random_graph(num_nodes: int = 75, num_edges: int = 1500) -> Data:\n",
    "    edges: torch.Tensor = torch.randint(0, num_nodes, (num_edges, 2), dtype=torch.long)\n",
    "    x: torch.Tensor = torch.rand((num_nodes, 1))\n",
    "    return Data(x=x, edge_index=edges.t().contiguous()).coalesce()\n",
    "\n",
    "\n",
    "class GCN_Dense(torch.nn.Module):\n",
    "    def __init__(self, in_channels, hidden_channels, out_channels):\n",
    "        super().__init__()\n",
    "\n",
    "        self.conv1 = DenseGCNConv(in_channels, hidden_channels)\n",
    "        self.conv2 = DenseGCNConv(hidden_channels, hidden_channels)\n",
    "        self.conv3 = DenseGCNConv(hidden_channels, hidden_channels)\n",
    "        self.lin = Linear(hidden_channels, out_channels)\n",
    "\n",
    "    def forward(self, x, adj, mask):\n",
    "        x = self.conv1(x, adj, mask).relu()\n",
    "        x = self.conv2(x, adj, mask).relu()\n",
    "        x = self.conv3(x, adj, mask).relu()\n",
    "        x = x.sum(dim=1)\n",
    "        return self.lin(x)\n",
    "\n",
    "\n",
    "model = GCN_Dense(\n",
    "    in_channels=1,\n",
    "    hidden_channels=32,\n",
    "    out_channels=10,\n",
    ").to(device)\n",
    "\n",
    "model.load_state_dict(torch.load(\"checkpoints/dense/small_dense.pt\", weights_only=False))"
   ]
  },
  {
   "cell_type": "code",
   "execution_count": 4,
   "id": "9092dc1d-c345-4c31-8b4b-ec40d279fe68",
   "metadata": {},
   "outputs": [],
   "source": [
    "batch_size = 32\n",
    "data: Batch = Batch.from_data_list([generate_random_graph() for _ in range(batch_size)])\n",
    "data.y = torch.randint(0, 10, (batch_size,)) # Fake labels\n",
    "data.to(device)\n",
    "x, mask = to_dense_batch(data.x, data.batch)\n",
    "adj = to_dense_adj(data.edge_index, data.batch)"
   ]
  },
  {
   "cell_type": "code",
   "execution_count": 5,
   "id": "f755fc09-ec00-4d62-aa8a-51554b6c4c5c",
   "metadata": {},
   "outputs": [
    {
     "name": "stdout",
     "output_type": "stream",
     "text": [
      "tensor([[ 2.8194e-02, -6.3914e-02,  1.6147e-02,  ...,  5.4240e-03,\n",
      "          9.7387e-01,  9.9486e-01],\n",
      "        [-6.6771e-03,  9.2277e-03,  9.4047e-01,  ...,  6.8134e-02,\n",
      "          3.7272e-02,  9.3470e-03],\n",
      "        [ 1.8744e-02,  4.4778e-03,  4.1326e-02,  ...,  9.8044e-01,\n",
      "          5.2424e-03, -4.1744e-02],\n",
      "        ...,\n",
      "        [ 1.2592e-02,  3.6151e-02, -3.2986e-02,  ..., -4.6441e-02,\n",
      "          9.6355e-01,  2.2499e-02],\n",
      "        [ 1.0041e+00,  9.8232e-01,  3.5269e-04,  ...,  2.3624e-02,\n",
      "          1.0314e+00,  9.8360e-01],\n",
      "        [-1.4371e-03,  2.2294e-02, -1.3815e-03,  ...,  9.6100e-01,\n",
      "         -1.2142e-02, -1.4905e-02]], device='cuda:0',\n",
      "       grad_fn=<SelectBackward0>)\n"
     ]
    }
   ],
   "source": [
    "model.eval()\n",
    "x.requires_grad_()\n",
    "adj.requires_grad_()\n",
    "\n",
    "noise_x = torch.randn(x.shape, device=device)\n",
    "noise_adj = torch.randn(adj.shape, device=device)\n",
    "\n",
    "for i in range(20):\n",
    "    noise_x.normal_(0, 0.005)\n",
    "    noise_adj.normal_(0, 0.005)\n",
    "    x.retain_grad()\n",
    "    adj.retain_grad()\n",
    "    energy = model(x, adj, mask)[torch.arange(data.y.size(0)), data.y]\n",
    "    energy.sum().backward()\n",
    "    x = x - x.grad + noise_x\n",
    "    adj = adj - adj.grad + noise_adj\n",
    "\n",
    "print(adj[0])"
   ]
  },
  {
   "cell_type": "code",
   "execution_count": null,
   "id": "2091b10b-a551-436a-9211-ea029082c8c2",
   "metadata": {},
   "outputs": [],
   "source": []
  }
 ],
 "metadata": {
  "kernelspec": {
   "display_name": "Python 3 (ipykernel)",
   "language": "python",
   "name": "python3"
  },
  "language_info": {
   "codemirror_mode": {
    "name": "ipython",
    "version": 3
   },
   "file_extension": ".py",
   "mimetype": "text/x-python",
   "name": "python",
   "nbconvert_exporter": "python",
   "pygments_lexer": "ipython3",
   "version": "3.12.3"
  }
 },
 "nbformat": 4,
 "nbformat_minor": 5
}
