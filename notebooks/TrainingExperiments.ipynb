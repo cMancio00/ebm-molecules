{
 "cells": [
  {
   "cell_type": "code",
   "execution_count": 1,
   "id": "2cdb4ce0-7c6b-4248-b845-2551eb1c543f",
   "metadata": {},
   "outputs": [
    {
     "name": "stderr",
     "output_type": "stream",
     "text": [
      "/home/mancio/git/ebm-molecules/.venv/lib/python3.12/site-packages/torch_geometric/typing.py:68: UserWarning: An issue occurred while importing 'pyg-lib'. Disabling its usage. Stacktrace: /home/mancio/git/ebm-molecules/.venv/lib/python3.12/site-packages/libpyg.so: undefined symbol: _ZN5torch8autograd12VariableInfoC1ERKN2at6TensorE\n",
      "  warnings.warn(f\"An issue occurred while importing 'pyg-lib'. \"\n",
      "/home/mancio/git/ebm-molecules/.venv/lib/python3.12/site-packages/torch_geometric/typing.py:86: UserWarning: An issue occurred while importing 'torch-scatter'. Disabling its usage. Stacktrace: /home/mancio/git/ebm-molecules/.venv/lib/python3.12/site-packages/torch_scatter/_scatter_cuda.so: undefined symbol: _ZN2at4_ops16div__Tensor_mode4callERNS_6TensorERKS2_St8optionalIN3c1017basic_string_viewIcEEE\n",
      "  warnings.warn(f\"An issue occurred while importing 'torch-scatter'. \"\n",
      "/home/mancio/git/ebm-molecules/.venv/lib/python3.12/site-packages/torch_geometric/typing.py:113: UserWarning: An issue occurred while importing 'torch-spline-conv'. Disabling its usage. Stacktrace: /home/mancio/git/ebm-molecules/.venv/lib/python3.12/site-packages/torch_spline_conv/_basis_cuda.so: undefined symbol: _ZN5torch8autograd12VariableInfoC1ERKN2at6TensorE\n",
      "  warnings.warn(\n",
      "/home/mancio/git/ebm-molecules/.venv/lib/python3.12/site-packages/torch_geometric/typing.py:124: UserWarning: An issue occurred while importing 'torch-sparse'. Disabling its usage. Stacktrace: /home/mancio/git/ebm-molecules/.venv/lib/python3.12/site-packages/torch_sparse/_spmm_cuda.so: undefined symbol: _ZN5torch8autograd12VariableInfoC1ERKN2at6TensorE\n",
      "  warnings.warn(f\"An issue occurred while importing 'torch-sparse'. \"\n"
     ]
    }
   ],
   "source": [
    "import torch\n",
    "from torch_geometric.data import Dataset\n",
    "from torch_geometric.datasets import MNISTSuperpixels\n",
    "from torch_geometric.loader import DataLoader\n",
    "from torch_geometric.nn import GCNConv\n",
    "from torch.nn import Linear, CrossEntropyLoss\n",
    "import torch.nn.functional as F\n",
    "from torch_geometric.nn import MLP, GINConv, global_add_pool\n",
    "import matplotlib.pyplot as plt\n",
    "import time\n",
    "\n",
    "torch.manual_seed(1)\n",
    "device = torch.device(\"cuda\" if torch.cuda.is_available() else \"cpu\")\n",
    "MNIST_PATH = \"../datasets/MNISTSuperpixel\""
   ]
  },
  {
   "cell_type": "code",
   "execution_count": 2,
   "id": "b6bf734a-3e1f-4492-99cd-5e75c585a386",
   "metadata": {},
   "outputs": [],
   "source": [
    "class GIN(torch.nn.Module):\n",
    "    def __init__(self, in_channels, hidden_channels, out_channels, num_layers):\n",
    "        super().__init__()\n",
    "\n",
    "        self.convs = torch.nn.ModuleList()\n",
    "        for _ in range(num_layers):\n",
    "            mlp = MLP([in_channels, hidden_channels, hidden_channels])\n",
    "            self.convs.append(GINConv(nn=mlp, train_eps=False))\n",
    "            in_channels = hidden_channels\n",
    "\n",
    "        self.mlp = MLP([hidden_channels, hidden_channels, out_channels],\n",
    "                       norm=None, dropout=0.5)\n",
    "        \n",
    "    def forward(self, x, edge_index, batch, batch_size):\n",
    "        for conv in self.convs:\n",
    "            x = conv(x, edge_index).relu()\n",
    "        # Pass the batch size to avoid CPU communication/graph breaks:\n",
    "        x = global_add_pool(x, batch, size=batch_size)\n",
    "        return self.mlp(x)"
   ]
  },
  {
   "cell_type": "code",
   "execution_count": 3,
   "id": "c3b5afed-4d91-4692-b97e-0a494094f2df",
   "metadata": {},
   "outputs": [],
   "source": [
    "dataset: Dataset = MNISTSuperpixels(root=MNIST_PATH).shuffle()\n",
    "train_loader = DataLoader(dataset[:0.9], batch_size=128)\n",
    "test_loader = DataLoader(dataset[0.9:], batch_size=128)"
   ]
  },
  {
   "cell_type": "code",
   "execution_count": 4,
   "id": "32700e9f-414d-4f34-a92e-631b1c367ac6",
   "metadata": {},
   "outputs": [],
   "source": [
    "model = GIN(\n",
    "    in_channels=dataset.num_features,\n",
    "    hidden_channels=32,\n",
    "    out_channels=dataset.num_classes,\n",
    "    num_layers=5,\n",
    ").to(device)\n",
    "\n",
    "# Compile the model into an optimized version:\n",
    "model = torch.compile(model, dynamic=True)\n",
    "\n",
    "optimizer = torch.optim.Adam(model.parameters(), lr=0.01)"
   ]
  },
  {
   "cell_type": "code",
   "execution_count": 5,
   "id": "785f4df6-8d2e-43e7-890c-85c60942be30",
   "metadata": {},
   "outputs": [],
   "source": [
    "def train():\n",
    "    model.train()\n",
    "\n",
    "    total_loss = 0\n",
    "    for data in train_loader:\n",
    "        data = data.to(device)\n",
    "        optimizer.zero_grad()\n",
    "        out = model(data.x, data.edge_index, data.batch, data.batch_size)\n",
    "        loss = F.cross_entropy(out, data.y)\n",
    "        loss.backward()\n",
    "        optimizer.step()\n",
    "        total_loss += float(loss) * data.num_graphs\n",
    "    return total_loss / len(train_loader.dataset)\n",
    "\n",
    "\n",
    "@torch.no_grad()\n",
    "def test(loader):\n",
    "    model.eval()\n",
    "\n",
    "    total_correct = 0\n",
    "    for data in loader:\n",
    "        data = data.to(device)\n",
    "        out = model(data.x, data.edge_index, data.batch, data.batch_size)\n",
    "        pred = out.argmax(dim=-1)\n",
    "        total_correct += int((pred == data.y).sum())\n",
    "    return total_correct / len(loader.dataset)"
   ]
  },
  {
   "cell_type": "code",
   "execution_count": 6,
   "id": "db3645df-bce7-4a00-a1b5-0542ec5bdcd6",
   "metadata": {},
   "outputs": [
    {
     "name": "stdout",
     "output_type": "stream",
     "text": [
      "Epoch: 100, Loss: 1.2007, Train_acc: 0.6257, Test_acc: 0.6130\n",
      "Median time per epoch: 10.3899s\n"
     ]
    }
   ],
   "source": [
    "times = []\n",
    "for epoch in range(1, 101):\n",
    "    start = time.time()\n",
    "    loss = train()\n",
    "    train_acc = test(train_loader)\n",
    "    test_acc = test(test_loader)\n",
    "    times.append(time.time() - start)\n",
    "    print(f'\\rEpoch: {epoch:03d}, Loss: {loss:.4f}, Train_acc: {train_acc:.4f}, '\n",
    "          f'Test_acc: {test_acc:.4f}', end=\"\")\n",
    "print(f'\\nMedian time per epoch: {torch.tensor(times).median():.4f}s')"
   ]
  },
  {
   "cell_type": "code",
   "execution_count": 11,
   "id": "7b5112c9-b6db-4289-9487-24e541e7a12c",
   "metadata": {},
   "outputs": [],
   "source": [
    "test_dataset: Dataset = MNISTSuperpixels(root=MNIST_PATH, train=False)\n",
    "loader_test = DataLoader(dataset[:500], batch_size=1)"
   ]
  },
  {
   "cell_type": "code",
   "execution_count": 13,
   "id": "37bc01c7-43bf-4bd4-98b9-c5d2ae9f2bd5",
   "metadata": {},
   "outputs": [
    {
     "name": "stdout",
     "output_type": "stream",
     "text": [
      "Accuracy: 63.20%\n"
     ]
    }
   ],
   "source": [
    "correct = 0\n",
    "for test in loader_test:\n",
    "    test.to(device)\n",
    "    pred = model(test.x, test.edge_index, test.batch, test.batch_size).softmax(1).argmax(1)\n",
    "    correct += int((pred == test.y).sum())\n",
    "print(f\"Accuracy: {correct/500 * 100:.2f}%\")"
   ]
  }
 ],
 "metadata": {
  "kernelspec": {
   "display_name": "Python 3 (ipykernel)",
   "language": "python",
   "name": "python3"
  },
  "language_info": {
   "codemirror_mode": {
    "name": "ipython",
    "version": 3
   },
   "file_extension": ".py",
   "mimetype": "text/x-python",
   "name": "python",
   "nbconvert_exporter": "python",
   "pygments_lexer": "ipython3",
   "version": "3.12.3"
  }
 },
 "nbformat": 4,
 "nbformat_minor": 5
}
